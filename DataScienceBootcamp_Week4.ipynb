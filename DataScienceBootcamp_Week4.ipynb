{
  "nbformat": 4,
  "nbformat_minor": 0,
  "metadata": {
    "colab": {
      "provenance": [],
      "authorship_tag": "ABX9TyOG5Ccsrj0/doYbkAaY9LaQ",
      "include_colab_link": true
    },
    "kernelspec": {
      "name": "python3",
      "display_name": "Python 3"
    },
    "language_info": {
      "name": "python"
    }
  },
  "cells": [
    {
      "cell_type": "markdown",
      "metadata": {
        "id": "view-in-github",
        "colab_type": "text"
      },
      "source": [
        "<a href=\"https://colab.research.google.com/github/tanvisht/DS-Bootcamp-Assignments/blob/main/DataScienceBootcamp_Week4.ipynb\" target=\"_parent\"><img src=\"https://colab.research.google.com/assets/colab-badge.svg\" alt=\"Open In Colab\"/></a>"
      ]
    },
    {
      "cell_type": "code",
      "execution_count": 5,
      "metadata": {
        "colab": {
          "base_uri": "https://localhost:8080/",
          "height": 106
        },
        "collapsed": true,
        "id": "ctUS45avOd_p",
        "outputId": "f439cd44-a2a9-443f-883a-71f28bc84ffd"
      },
      "outputs": [
        {
          "output_type": "error",
          "ename": "SyntaxError",
          "evalue": "invalid decimal literal (<ipython-input-5-72478a6813de>, line 1)",
          "traceback": [
            "\u001b[0;36m  File \u001b[0;32m\"<ipython-input-5-72478a6813de>\"\u001b[0;36m, line \u001b[0;32m1\u001b[0m\n\u001b[0;31m    --1.Pull total number of orders that were completed on 18th March 2023.\u001b[0m\n\u001b[0m       ^\u001b[0m\n\u001b[0;31mSyntaxError\u001b[0m\u001b[0;31m:\u001b[0m invalid decimal literal\n"
          ]
        }
      ],
      "source": [
        "All the code was developed on MySQL Workbench. Attaching the collab book for the reference.\n",
        "--1.Pull total number of orders that were completed on 18th March 2023.\n",
        "--Since order_id is primary key\n",
        "SELECT COUNT(*) FROM SALES WHERE DATE='2023-03-18';"
      ]
    },
    {
      "cell_type": "code",
      "source": [
        "--2.Pull total number of orders that were completed on 18th March 2023 with the first name ‘John’ and last name Doe’.\n",
        "SELECT COUNT(*) FROM SALES S\n",
        "JOIN CUSTOMERS C ON S.CUSTOMER_ID=C.CUSTOMER_ID\n",
        "WHERE C.FIRST_NAME='John' AND C.LAST_NAME='Doe';"
      ],
      "metadata": {
        "id": "F72O2C06OmuO"
      },
      "execution_count": 1,
      "outputs": []
    },
    {
      "cell_type": "code",
      "source": [
        "--3.Pull total number of customers that purchased in January 2023 and the average amount spend per customer.\n",
        "SELECT C.CUSTOMER_ID,C.FIRST_NAME,C.LAST_NAME,AVG(REVENUE) AS AVG_COST\n",
        "FROM CUSTOMERS C JOIN SALES S ON C.CUSTOMER_ID=S.CUSTOMER_ID\n",
        "WHERE DATE BETWEEN '2023-03-01' AND '2023-03-31'\n",
        "GROUP BY C.CUSTOMER_ID;"
      ],
      "metadata": {
        "colab": {
          "base_uri": "https://localhost:8080/",
          "height": 106
        },
        "collapsed": true,
        "id": "SEiNLUhBOsfd",
        "outputId": "396ff9ea-a6d3-419e-8642-769c02f9462a"
      },
      "execution_count": 2,
      "outputs": [
        {
          "output_type": "error",
          "ename": "SyntaxError",
          "evalue": "invalid decimal literal (<ipython-input-2-0bba3e60572d>, line 1)",
          "traceback": [
            "\u001b[0;36m  File \u001b[0;32m\"<ipython-input-2-0bba3e60572d>\"\u001b[0;36m, line \u001b[0;32m1\u001b[0m\n\u001b[0;31m    --3.Pull total number of customers that purchased in January 2023 and the average amount spend per customer.\u001b[0m\n\u001b[0m       ^\u001b[0m\n\u001b[0;31mSyntaxError\u001b[0m\u001b[0;31m:\u001b[0m invalid decimal literal\n"
          ]
        }
      ]
    },
    {
      "cell_type": "code",
      "source": [
        "--4.Pull the departments that generated less than $600 in 2022.\n",
        "SELECT I.DEPARTMENT FROM ITEMS I\n",
        "JOIN SALES S ON S.ITEM_ID=I.ITEM_ID\n",
        "WHERE DATE BETWEEN '2022-01-01' AND '2022-12-31'\n",
        "GROUP BY I.DEPARTMENT\n",
        "HAVING SUM(REVENUE)>600;"
      ],
      "metadata": {
        "colab": {
          "base_uri": "https://localhost:8080/",
          "height": 106
        },
        "collapsed": true,
        "id": "4xSZ1lwpOtyn",
        "outputId": "9f48e25f-532f-4057-a839-23aa42748c0b"
      },
      "execution_count": 3,
      "outputs": [
        {
          "output_type": "error",
          "ename": "SyntaxError",
          "evalue": "invalid decimal literal (<ipython-input-3-7b752a610577>, line 1)",
          "traceback": [
            "\u001b[0;36m  File \u001b[0;32m\"<ipython-input-3-7b752a610577>\"\u001b[0;36m, line \u001b[0;32m1\u001b[0m\n\u001b[0;31m    --4.Pull the departments that generated less than $600 in 2022.\u001b[0m\n\u001b[0m       ^\u001b[0m\n\u001b[0;31mSyntaxError\u001b[0m\u001b[0;31m:\u001b[0m invalid decimal literal\n"
          ]
        }
      ]
    },
    {
      "cell_type": "code",
      "source": [
        "--5.What is the most and least revenue we have generated by an order.\n",
        "SELECT MAX(REVENUE) AS MAX_REVENUE,MIN(REVENUE) AS MIN_REVENUE\n",
        "FROM SALES;"
      ],
      "metadata": {
        "colab": {
          "base_uri": "https://localhost:8080/",
          "height": 106
        },
        "collapsed": true,
        "id": "DFzWErN2OxcL",
        "outputId": "3b110bb5-da80-438c-f696-d8d1e20f54b8"
      },
      "execution_count": 4,
      "outputs": [
        {
          "output_type": "error",
          "ename": "SyntaxError",
          "evalue": "invalid decimal literal (<ipython-input-4-7e19c8842338>, line 1)",
          "traceback": [
            "\u001b[0;36m  File \u001b[0;32m\"<ipython-input-4-7e19c8842338>\"\u001b[0;36m, line \u001b[0;32m1\u001b[0m\n\u001b[0;31m    --5.What is the most and least revenue we have generated by an order.\u001b[0m\n\u001b[0m       ^\u001b[0m\n\u001b[0;31mSyntaxError\u001b[0m\u001b[0;31m:\u001b[0m invalid decimal literal\n"
          ]
        }
      ]
    },
    {
      "cell_type": "code",
      "source": [
        "--6.What were the orders that were purchased in our most lucrative order.\n",
        "SELECT * FROM SALES\n",
        "WHERE REVENUE=(SELECT MAX(REVENUE) FROM SALES);"
      ],
      "metadata": {
        "id": "La3bMgugO0MZ"
      },
      "execution_count": null,
      "outputs": []
    }
  ]
}