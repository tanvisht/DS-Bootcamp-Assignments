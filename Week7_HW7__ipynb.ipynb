{
  "cells": [
    {
      "cell_type": "markdown",
      "metadata": {
        "id": "view-in-github",
        "colab_type": "text"
      },
      "source": [
        "<a href=\"https://colab.research.google.com/github/tanvisht/DS-Bootcamp-Assignments/blob/main/Week7_HW7__ipynb.ipynb\" target=\"_parent\"><img src=\"https://colab.research.google.com/assets/colab-badge.svg\" alt=\"Open In Colab\"/></a>"
      ]
    },
    {
      "cell_type": "markdown",
      "metadata": {
        "id": "z0IsDaP37STZ"
      },
      "source": [
        "# Week 7 Assignment\n"
      ]
    },
    {
      "cell_type": "markdown",
      "metadata": {
        "id": "MniLgLCc7STd"
      },
      "source": [
        "### Q1. How do you control for biases?\n",
        " Ans1. To control for biases, it's essential to design experiments or studies in a way that minimizes the influence of external factors and ensures that the results are as objective and unbiased as possible. This can be achieved by randomization, blinding, and careful experimental design to mitigate the impact of confounding variables and other sources of bias."
      ]
    },
    {
      "cell_type": "markdown",
      "metadata": {
        "id": "GEdo1YQ37STe"
      },
      "source": []
    },
    {
      "cell_type": "markdown",
      "metadata": {
        "id": "r6dTswEb7STe"
      },
      "source": [
        "### Q2. What are confounding variables?\n",
        " Ans2. Confounding variables are extraneous factors that can influence the relationship between the independent and dependent variables in a study, leading to unauthentic associations. Controlling for confounding variables is crucial in research to ensure that the observed effects are genuinely attributable to the independent variable of interest and not to other factors."
      ]
    },
    {
      "cell_type": "markdown",
      "metadata": {
        "id": "WnQOzq1a7STf"
      },
      "source": [
        "### Q3. What is A/B testing?\n",
        " Ans3. A/B testing, also known as split testing, is a method used to compare two versions (A and B) of a webpage, advertisement, product feature, or other elements to determine which one performs better. It involves randomly assigning users to either version A or B and measuring the outcome of interest, such as click-through rates, conversion rates, or user engagement, to determine which version yields superior results."
      ]
    },
    {
      "cell_type": "markdown",
      "metadata": {
        "id": "Pv26QYrW7STf"
      },
      "source": [
        "### Q4. When will you use Welch t-test?\n",
        " Ans4. When the variances of the two groups are unequal, the standard Student's t-test may not provide accurate results. In such cases, Welch's t-test is preferred because it adjusts for the unequal variances by modifying the degrees of freedom used in the t-distribution."
      ]
    },
    {
      "cell_type": "markdown",
      "metadata": {
        "id": "pR-BS8Sr7STg"
      },
      "source": []
    },
    {
      "cell_type": "markdown",
      "metadata": {
        "id": "NRasIygE7STg"
      },
      "source": [
        "### Q5. A company claims that the average time its customer service representatives spend on the phone per call is 6 minutes. You believe that the average time is actually higher. You collect a random sample of 50 calls and find that the average time spent on the phone per call in your sample is 6.5 minutes, with a standard deviation of 1.2 minutes. Test whether there is sufficient evidence to support your claim at a significance level of 0.05.\n",
        "\n",
        "### Ans5.\n",
        "The calculated\n",
        "𝑡\n",
        "t-statistic is\n",
        "2.95\n",
        "2.95, while the critical\n",
        "𝑡\n",
        "t-value for a one-tailed test at a significance level of 0.05 (with 49 degrees of freedom) is\n",
        "1.68\n",
        "1.68.\n",
        "Since the\n",
        "𝑡\n",
        "t-statistic exceeds the critical\n",
        "𝑡\n",
        "t-value (\n",
        "2.95\n",
        ">\n",
        "1.68\n",
        "2.95>1.68), we can confidently reject the null hypothesis. This means there is sufficient evidence to support the  belief that the average time customer service representatives spend on the phone per call is significantly higher than the company's claimed average of 6 minutes.\n",
        "\n",
        "The findings suggest that the true average call time is likely longer than what the company reports, which could have implications for understanding customer service performance or addressing discrepancies in reported metrics.\n"
      ]
    },
    {
      "cell_type": "markdown",
      "metadata": {
        "id": "VkgE5x1c7STg"
      },
      "source": [
        "### Q6. A researcher wants to determine whether there is a difference in the mean scores of two groups of students on a math test. Group A consists of 25 students who received traditional teaching methods, while Group B consists of 30 students who received a new teaching method. The average score for Group A is 75, with a standard deviation of 8, and the average score for Group B is 78, with a standard deviation of 7. Test whether there is a significant difference in the mean scores of the two groups at a significance level of 0.05.\n",
        "\n",
        "### Ans6.\n",
        "he calculated\n",
        "𝑡\n",
        "t-statistic is\n",
        "−\n",
        "1.47\n",
        "−1.47.\n",
        "The degrees of freedom are approximately\n",
        "48.17\n",
        "48.17.\n",
        "The critical\n",
        "𝑡\n",
        "t-value for a two-tailed test at a significance level of 0.05 is\n",
        "±\n",
        "2.01\n",
        "±2.01.\n",
        "Interpretation\n",
        "Since the absolute value of the\n",
        "𝑡\n",
        "t-statistic (\n",
        "∣\n",
        "−\n",
        "1.47\n",
        "∣\n",
        "=\n",
        "1.47\n",
        "∣−1.47∣=1.47) is less than the critical value (\n",
        "2.01\n",
        "2.01), we fail to reject the null hypothesis. This means that, based on the data, there is not enough evidence to conclude that the mean math scores of Group A and Group B are significantly different.\n",
        "\n",
        "Conclusion\n",
        "The new teaching method (Group B) does not show a statistically significant improvement (or decline) in math test scores compared to the traditional teaching method (Group A) at the 0.05 significance level. However, the difference might still be practically meaningful and could warrant further investigation with a larger sample size"
      ]
    },
    {
      "cell_type": "markdown",
      "metadata": {
        "id": "9pHmeR787STh"
      },
      "source": []
    }
  ],
  "metadata": {
    "kernelspec": {
      "display_name": "Python 3",
      "language": "python",
      "name": "python3"
    },
    "language_info": {
      "codemirror_mode": {
        "name": "ipython",
        "version": 3
      },
      "file_extension": ".py",
      "mimetype": "text/x-python",
      "name": "python",
      "nbconvert_exporter": "python",
      "pygments_lexer": "ipython3",
      "version": "3.12.0rc1"
    },
    "colab": {
      "provenance": [],
      "include_colab_link": true
    }
  },
  "nbformat": 4,
  "nbformat_minor": 0
}